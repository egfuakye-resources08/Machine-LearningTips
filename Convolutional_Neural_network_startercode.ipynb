{
  "nbformat": 4,
  "nbformat_minor": 0,
  "metadata": {
    "colab": {
      "name": "Convolutional_Neural_network_startercode.ipynb",
      "private_outputs": true,
      "provenance": [],
      "authorship_tag": "ABX9TyNWKg0otZ4b2OeODvP3feI0",
      "include_colab_link": true
    },
    "kernelspec": {
      "name": "python3",
      "display_name": "Python 3"
    },
    "language_info": {
      "name": "python"
    },
    "accelerator": "GPU"
  },
  "cells": [
    {
      "cell_type": "markdown",
      "metadata": {
        "id": "view-in-github",
        "colab_type": "text"
      },
      "source": [
        "<a href=\"https://colab.research.google.com/github/egfuakye-resources08/Machine-LearningTips/blob/main/Convolutional_Neural_network_startercode.ipynb\" target=\"_parent\"><img src=\"https://colab.research.google.com/assets/colab-badge.svg\" alt=\"Open In Colab\"/></a>"
      ]
    },
    {
      "cell_type": "code",
      "execution_count": null,
      "metadata": {
        "id": "Ai5adrRr64RF"
      },
      "outputs": [],
      "source": [
        "import numpy as np \n",
        "import keras\n",
        "from sklearn import datasets\n",
        "from keras.datasets import mnist\n",
        "from keras.models import Sequential\n",
        "from keras.layers import Dense\n",
        "from tensorflow.keras.optimizers import Adam\n",
        "from numpy.core.function_base import linspace\n",
        "from numpy.core.function_base import linspace\n",
        "from keras.utils.np_utils import to_categorical\n",
        "import random\n",
        "import matplotlib.pyplot as plt"
      ]
    },
    {
      "cell_type": "code",
      "source": [
        "np.random.seed(0)"
      ],
      "metadata": {
        "id": "bvPM75Vi7D9l"
      },
      "execution_count": null,
      "outputs": []
    },
    {
      "cell_type": "code",
      "source": [
        "(X_train, y_train), (X_test, y_test)= mnist.load_data()"
      ],
      "metadata": {
        "id": "LbLsGQsE7IQM"
      },
      "execution_count": null,
      "outputs": []
    },
    {
      "cell_type": "code",
      "source": [
        "print(X_train.shape)\n",
        "print(X_test.shape)\n",
        "assert(X_train.shape[0] == y_train.shape[0]), \"The number of images is not equal to the number of labels.\"\n",
        "assert(X_train.shape[1:] == (28,28)), \"The dimensions of the images are not 28 x 28.\"\n",
        "assert(X_test.shape[0] == y_test.shape[0]), \"The number of images is not equal to the number of labels.\"\n",
        "assert(X_test.shape[1:] == (28,28)), \"The dimensions of the images are not 28 x 28.\""
      ],
      "metadata": {
        "id": "KF743eZj7JYr"
      },
      "execution_count": null,
      "outputs": []
    },
    {
      "cell_type": "code",
      "source": [
        "num_of_samples=[]"
      ],
      "metadata": {
        "id": "R8BiDiwH7LtM"
      },
      "execution_count": null,
      "outputs": []
    },
    {
      "cell_type": "code",
      "source": [
        "cols = 5\n",
        "num_classes = 10"
      ],
      "metadata": {
        "id": "RgNGdnvc7OPj"
      },
      "execution_count": null,
      "outputs": []
    },
    {
      "cell_type": "code",
      "source": [
        "fig, axs = plt.subplots(nrows=num_classes, ncols=cols, figsize=(5,10))\n",
        "fig.tight_layout()"
      ],
      "metadata": {
        "id": "PFB3oW897QQq"
      },
      "execution_count": null,
      "outputs": []
    },
    {
      "cell_type": "code",
      "source": [
        "for i in range(cols):\n",
        "    for j in range(num_classes):\n",
        "      x_selected = X_train[y_train == j]\n",
        "      axs[j][i].imshow(x_selected[random.randint(0,(len(x_selected) - 1)), :, :], cmap=plt.get_cmap('gray'))\n",
        "      axs[j][i].axis(\"off\")\n",
        "      if i == 2:\n",
        "        axs[j][i].set_title(str(j))\n",
        "        num_of_samples.append(len(x_selected))"
      ],
      "metadata": {
        "id": "7CZnKj6e7T7l"
      },
      "execution_count": null,
      "outputs": []
    },
    {
      "cell_type": "code",
      "source": [
        "print(num_of_samples)\n",
        "plt.figure(figsize=(12, 4))\n",
        "plt.bar(range(0, num_classes), num_of_samples)\n",
        "plt.title(\"Distribution of the train dataset\")\n",
        "plt.xlabel(\"Class number\")\n",
        "plt.ylabel(\"Number of images\")\n",
        "plt.show()"
      ],
      "metadata": {
        "id": "LgpKb0aW7Wmn"
      },
      "execution_count": null,
      "outputs": []
    },
    {
      "cell_type": "code",
      "source": [
        "X_train = X_train.reshape(60000, 28, 28, 1)\n",
        "X_test = X_test.reshape(10000, 28, 28, 1)"
      ],
      "metadata": {
        "id": "HK9P22nz7ZPE"
      },
      "execution_count": null,
      "outputs": []
    },
    {
      "cell_type": "code",
      "source": [
        "y_train = to_categorical(y_train, 10)\n",
        "y_test = to_categorical(y_test, 10)"
      ],
      "metadata": {
        "id": "HbOTzdFc8Ivr"
      },
      "execution_count": null,
      "outputs": []
    },
    {
      "cell_type": "code",
      "source": [
        "X_train = X_train/255\n",
        "X_test = X_test/255"
      ],
      "metadata": {
        "id": "9YuPvQIu8Tg4"
      },
      "execution_count": null,
      "outputs": []
    }
  ]
}